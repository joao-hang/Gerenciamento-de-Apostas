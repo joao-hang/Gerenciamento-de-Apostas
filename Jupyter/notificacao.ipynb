{
 "cells": [
  {
   "cell_type": "code",
   "execution_count": null,
   "metadata": {},
   "outputs": [],
   "source": [
    " def get(self, notificacao_id):\n",
    "        for notif in notificacoes:\n",
    "            if notif['id'] == notificacao_id:\n",
    "                return notif, 200\n",
    "        return \"Notificação não encontrada\", 404\n",
    "\n",
    "    def post(self):\n",
    "        global id_notificacao\n",
    "        parser = reqparse.RequestParser()\n",
    "        parser.add_argument(\"usuario_id\", type=int, required=True, help=\"ID do usuário para qual a notificação será enviada\")\n",
    "        parser.add_argument(\"mensagem\", type=str, required=True, help=\"Mensagem da notificação\")\n",
    "        args = parser.parse_args()\n",
    "\n",
    "        notificacao = {\n",
    "            \"id\": id_notificacao,\n",
    "            \"usuario_id\": args[\"usuario_id\"],\n",
    "            \"mensagem\": args[\"mensagem\"],\n",
    "            \"data\": datetime.now().strftime(\"%Y-%m-%d %H:%M:%S\")\n",
    "        }\n",
    "        id_notificacao += 1\n",
    "        notificacoes.append(notificacao)\n",
    "        return notificacao, 201\n",
    "\n",
    "    def put(self, notificacao_id):\n",
    "        parser = reqparse.RequestParser()\n",
    "        parser.add_argument(\"usuario_id\", type=int, required=True, help=\"ID do usuário para qual a notificação será enviada\")\n",
    "        parser.add_argument(\"mensagem\", type=str, required=True, help=\"Mensagem da notificação\")\n",
    "        args = parser.parse_args()\n",
    "\n",
    "        for notif in notificacoes:\n",
    "            if notif['id'] == notificacao_id:\n",
    "                notif['usuario_id'] = args[\"usuario_id\"]\n",
    "                notif['mensagem'] = args[\"mensagem\"]\n",
    "                notif['data'] = datetime.now().strftime(\"%Y-%m-%d %H:%M:%S\")\n",
    "                return notif, 200\n",
    "\n",
    "        notificacao = {\n",
    "            \"id\": notificacao_id,\n",
    "            \"usuario_id\": args[\"usuario_id\"],\n",
    "            \"mensagem\": args[\"mensagem\"],\n",
    "            \"data\": datetime.now().strftime(\"%Y-%m-%d %H:%M:%S\")\n",
    "        }\n",
    "        notificacoes.append(notificacao)\n",
    "        return notificacao, 201\n",
    "\n",
    "    def delete(self, notificacao_id):\n",
    "        global notificacoes\n",
    "        notificacoes = [notif for notif in notificacoes if notif['id'] != notificacao_id]\n",
    "        return \"{} foi deletada.\".format(notificacao_id), 200"
   ]
  }
 ],
 "metadata": {
  "language_info": {
   "name": "python"
  }
 },
 "nbformat": 4,
 "nbformat_minor": 2
}
