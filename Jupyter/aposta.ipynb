{
 "cells": [
  {
   "cell_type": "code",
   "execution_count": null,
   "metadata": {},
   "outputs": [],
   "source": [
    " def get(self, bet_id):\n",
    "        for bet in bets:\n",
    "            if bet['id'] == bet_id:\n",
    "                return bet, 200\n",
    "        return \"Bet not found\", 404\n",
    "\n",
    "    def post(self, bet_id):\n",
    "        parser = reqparse.RequestParser()\n",
    "        parser.add_argument(\"user_id\", type=int, required=True, help=\"User ID placing the bet\")\n",
    "        parser.add_argument(\"event_id\", type=int, required=True, help=\"Event ID of the bet\")\n",
    "        parser.add_argument(\"amount\", type=float, required=True, help=\"Amount of the bet\")\n",
    "        args = parser.parse_args()\n",
    "\n",
    "        bet = {\n",
    "            \"id\": bet_id,\n",
    "            \"user_id\": args[\"user_id\"],\n",
    "            \"event_id\": args[\"event_id\"],\n",
    "            \"amount\": args[\"amount\"]\n",
    "        }\n",
    "        bets.append(bet)\n",
    "        return bet, 201\n",
    "\n",
    "    def put(self, bet_id):\n",
    "        parser = reqparse.RequestParser()\n",
    "        parser.add_argument(\"user_id\", type=int, required=True, help=\"User ID placing the bet\")\n",
    "        parser.add_argument(\"event_id\", type=int, required=True, help=\"Event ID of the bet\")\n",
    "        parser.add_argument(\"amount\", type=float, required=True, help=\"Amount of the bet\")\n",
    "        args = parser.parse_args()\n",
    "\n",
    "        for bet in bets:\n",
    "            if bet['id'] == bet_id:\n",
    "                bet['user_id'] = args[\"user_id\"]\n",
    "                bet['event_id'] = args[\"event_id\"]\n",
    "                bet['amount'] = args[\"amount\"]\n",
    "                return bet, 200\n",
    "\n",
    "        bet = {\n",
    "            \"id\": bet_id,\n",
    "            \"user_id\": args[\"user_id\"],\n",
    "            \"event_id\": args[\"event_id\"],\n",
    "            \"amount\": args[\"amount\"]\n",
    "        }\n",
    "        bets.append(bet)\n",
    "        return bet, 201\n",
    "\n",
    "    def delete(self, bet_id):\n",
    "        global bets\n",
    "        bets = [bet for bet in bets if bet['id'] != bet_id]\n",
    "        return \"{} is deleted.\".format(bet_id), 200"
   ]
  }
 ],
 "metadata": {
  "language_info": {
   "name": "python"
  }
 },
 "nbformat": 4,
 "nbformat_minor": 2
}
