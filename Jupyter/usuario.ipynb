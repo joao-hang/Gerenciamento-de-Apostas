{
 "cells": [
  {
   "cell_type": "code",
   "execution_count": null,
   "metadata": {},
   "outputs": [],
   "source": [
    "def get(self, usuario_id):\n",
    "        for usuario in usuarios:\n",
    "            if usuario['id'] == usuario_id:\n",
    "                return usuario, 200\n",
    "        return \"Usuário não encontrado\", 404\n",
    "\n",
    "    def post(self):\n",
    "        global id_usuario\n",
    "        parser = reqparse.RequestParser()\n",
    "        parser.add_argument(\"nome\", type=str, required=True, help=\"Nome do usuário\")\n",
    "        parser.add_argument(\"email\", type=str, required=True, help=\"E-mail do usuário\")\n",
    "        parser.add_argument(\"senha\", type=str, required=True, help=\"Senha do usuário\")\n",
    "        parser.add_argument(\"cpf\", type=str, required=True, help=\"CPF do usuário\")\n",
    "        args = parser.parse_args()\n",
    "\n",
    "        usuario = {\n",
    "            \"id\": id_usuario,\n",
    "            \"nome\": args[\"nome\"],\n",
    "            \"email\": args[\"email\"],\n",
    "            \"senha\": args[\"senha\"],\n",
    "            \"cpf\": args[\"cpf\"],\n",
    "            \"saldo\": 0.0,\n",
    "            \"data_cadastro\": datetime.now().strftime(\"%Y-%m-%d %H:%M:%S\")\n",
    "        }\n",
    "        id_usuario += 1\n",
    "        usuarios.append(usuario)\n",
    "        return usuario, 201\n",
    "\n",
    "    def put(self, usuario_id):\n",
    "        parser = reqparse.RequestParser()\n",
    "        parser.add_argument(\"nome\", type=str, required=True, help=\"Nome do usuário\")\n",
    "        parser.add_argument(\"email\", type=str, required=True, help=\"E-mail do usuário\")\n",
    "        parser.add_argument(\"senha\", type=str, required=True, help=\"Senha do usuário\")\n",
    "        parser.add_argument(\"cpf\", type=str, required=True, help=\"CPF do usuário\")\n",
    "        args = parser.parse_args()\n",
    "\n",
    "        for usuario in usuarios:\n",
    "            if usuario['id'] == usuario_id:\n",
    "                usuario['nome'] = args[\"nome\"]\n",
    "                usuario['email'] = args[\"email\"]\n",
    "                usuario['senha'] = args[\"senha\"]\n",
    "                usuario['cpf'] = args[\"cpf\"]\n",
    "                return usuario, 200\n",
    "\n",
    "        return \"Usuário não encontrado\", 404\n",
    "\n",
    "    def delete(self, usuario_id):\n",
    "        global usuarios\n",
    "        usuarios = [usuario for usuario in usuarios if usuario['id'] != usuario_id]\n",
    "        return \"{} foi deletado.\".format(usuario_id), 200\n"
   ]
  }
 ],
 "metadata": {
  "language_info": {
   "name": "python"
  }
 },
 "nbformat": 4,
 "nbformat_minor": 2
}
